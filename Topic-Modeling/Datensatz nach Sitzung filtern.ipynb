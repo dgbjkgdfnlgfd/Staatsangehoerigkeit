{
 "cells": [
  {
   "cell_type": "code",
   "execution_count": 3,
   "id": "4e69e53d",
   "metadata": {},
   "outputs": [],
   "source": [
    "import pandas as pd\n",
    "import csv"
   ]
  },
  {
   "cell_type": "code",
   "execution_count": 2,
   "id": "196f62d4",
   "metadata": {},
   "outputs": [],
   "source": [
    "# read CSV file with speeches\n",
    "opendiscourse = pd.read_csv('speeches.csv')"
   ]
  },
  {
   "cell_type": "markdown",
   "id": "6c96a522",
   "metadata": {},
   "source": [
    "2014a  \n",
    "wahlperiode: 18  \n",
    "sitzungsnummer: 39  \n",
    "\n",
    "2014b  \n",
    "wahlperiode: 18  \n",
    "sitzungsnummer: 46  \n",
    "\n",
    "2019a  \n",
    "wahlperiode: 19  \n",
    "sitzungsnummer: 101  \n",
    "\n",
    "2019b  \n",
    "wahlperiode: 19  \n",
    "sitzungsnummer: 107  \n",
    "\n",
    "2021a  \n",
    "wahlperiode: 19  \n",
    "sitzungsnummer: 224  "
   ]
  },
  {
   "cell_type": "code",
   "execution_count": null,
   "id": "b52a7faf",
   "metadata": {},
   "outputs": [],
   "source": [
    "# save rows for relevant session to variable 'sitzung2014a'\n",
    "\n",
    "sitzung2014a = opendiscourse.loc[(opendiscourse[\"electoralTerm\"] == 18) & (opendiscourse[\"session\"] == 46)]"
   ]
  },
  {
   "cell_type": "code",
   "execution_count": null,
   "id": "fb86d63d",
   "metadata": {},
   "outputs": [],
   "source": [
    "# reset index for those rows\n",
    "sitzung2014a.reset_index(drop=True)"
   ]
  },
  {
   "cell_type": "code",
   "execution_count": null,
   "id": "11c116af",
   "metadata": {},
   "outputs": [],
   "source": [
    "# write the rows for that session to a new CSV file\n",
    "writer = sitzung2014a\n",
    "writer.to_csv('sitzung2014a.csv', index=False)"
   ]
  },
  {
   "cell_type": "code",
   "execution_count": 4,
   "id": "28f956eb",
   "metadata": {},
   "outputs": [],
   "source": [
    "def saveSession(wahlperiode, sitzungsnummer):\n",
    "    aktuelleSitzung = opendiscourse.loc[(opendiscourse[\"electoralTerm\"] == wahlperiode) & (opendiscourse[\"session\"] == sitzungsnummer)]\n",
    "    aktuelleSitzung.reset_index(drop=True)\n",
    "    writer = aktuelleSitzung\n",
    "    writer.to_csv(f'Sitzung {wahlperiode, sitzungsnummer}.csv', index=False)"
   ]
  },
  {
   "cell_type": "code",
   "execution_count": 7,
   "id": "8baaca74",
   "metadata": {},
   "outputs": [],
   "source": [
    "saveSession(18,46)"
   ]
  }
 ],
 "metadata": {
  "kernelspec": {
   "display_name": "Python 3 (ipykernel)",
   "language": "python",
   "name": "python3"
  },
  "language_info": {
   "codemirror_mode": {
    "name": "ipython",
    "version": 3
   },
   "file_extension": ".py",
   "mimetype": "text/x-python",
   "name": "python",
   "nbconvert_exporter": "python",
   "pygments_lexer": "ipython3",
   "version": "3.11.5"
  }
 },
 "nbformat": 4,
 "nbformat_minor": 5
}
