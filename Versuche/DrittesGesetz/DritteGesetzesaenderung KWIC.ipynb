{
 "cells": [
  {
   "cell_type": "code",
   "execution_count": 1,
   "id": "3f113802",
   "metadata": {},
   "outputs": [],
   "source": [
    "# file reading and writing\n",
    "import os"
   ]
  },
  {
   "cell_type": "code",
   "execution_count": 2,
   "id": "58d8b8b4",
   "metadata": {},
   "outputs": [],
   "source": [
    "# xml parser\n",
    "import xml.etree.ElementTree as ET"
   ]
  },
  {
   "cell_type": "code",
   "execution_count": 3,
   "id": "e0cc005e",
   "metadata": {},
   "outputs": [],
   "source": [
    "# regex\n",
    "import re"
   ]
  },
  {
   "cell_type": "code",
   "execution_count": 4,
   "id": "99289f00",
   "metadata": {},
   "outputs": [],
   "source": [
    "# to save dictionary to JSON file\n",
    "import json"
   ]
  },
  {
   "cell_type": "code",
   "execution_count": 5,
   "id": "a6c5a7e1",
   "metadata": {},
   "outputs": [
    {
     "name": "stdout",
     "output_type": "stream",
     "text": [
      "['C:\\\\Users\\\\emily_x4gfebk\\\\Desktop\\\\NLP\\\\Staatsangehoerigkeit\\\\Data19PlenarDocs\\\\DrittesGesetz\\\\19101.xml', 'C:\\\\Users\\\\emily_x4gfebk\\\\Desktop\\\\NLP\\\\Staatsangehoerigkeit\\\\Data19PlenarDocs\\\\DrittesGesetz\\\\19107.xml', 'C:\\\\Users\\\\emily_x4gfebk\\\\Desktop\\\\NLP\\\\Staatsangehoerigkeit\\\\Data19PlenarDocs\\\\DrittesGesetz\\\\drittesGesetzText.json']\n"
     ]
    }
   ],
   "source": [
    "path_to_folder = \"C:\\\\Users\\\\emily_x4gfebk\\\\Desktop\\\\NLP\\\\Staatsangehoerigkeit\\\\Data19PlenarDocs\\\\DrittesGesetz\"\n",
    "path_to_files = sorted ([os.path.join(path_to_folder, f) for f in os.listdir(path_to_folder)])\n",
    "print (path_to_files)"
   ]
  },
  {
   "cell_type": "code",
   "execution_count": 6,
   "id": "d6c7c90c",
   "metadata": {},
   "outputs": [],
   "source": [
    "plenarliste = []\n",
    "for my_file in path_to_files:\n",
    "    with open(my_file, 'r', encoding = 'utf-8') as f:\n",
    "        plenarliste.append(f.read())\n",
    "#print(plenarliste[0])"
   ]
  },
  {
   "cell_type": "code",
   "execution_count": 7,
   "id": "d1b5a1b4",
   "metadata": {},
   "outputs": [],
   "source": [
    "tree = ET.ElementTree(ET.fromstring(plenarliste[0]))"
   ]
  },
  {
   "cell_type": "code",
   "execution_count": 8,
   "id": "79e2a72b",
   "metadata": {},
   "outputs": [],
   "source": [
    "root = tree.getroot()"
   ]
  },
  {
   "cell_type": "code",
   "execution_count": 9,
   "id": "a2109ecf",
   "metadata": {},
   "outputs": [],
   "source": [
    "plenarlisteLower = []\n",
    "plenarlisteLower.append(plenarliste[0].lower())"
   ]
  },
  {
   "cell_type": "code",
   "execution_count": 10,
   "id": "84b2a7d3",
   "metadata": {},
   "outputs": [],
   "source": [
    "# kann vielleicht einfacher gemacht werden...\n",
    "plenarWords = plenarlisteLower[0].replace('\\n', ' ').replace('  .','').replace('- ','').replace(' .', '.').replace('...............','').replace('   ',' ').replace('  ',' ').replace(' – ',\" \").replace('(','').replace(')','').replace('[','').replace(']','').replace('?','').replace(':','').replace('„','').replace('“','')"
   ]
  },
  {
   "cell_type": "code",
   "execution_count": null,
   "id": "9c1be891",
   "metadata": {},
   "outputs": [],
   "source": [
    "#rededict = {}\n",
    "#plenarWords = plenarliste[0].split(\" \")\n",
    "#plenarWordsList=[]\n",
    "#for e in plenarWords:\n",
    "#    e.strip()\n",
    "#    plenarWordsList.append(e.strip())\n",
    "#print(\"Inhalt aller Reden im Dokument:\")"
   ]
  },
  {
   "cell_type": "code",
   "execution_count": 11,
   "id": "914b7d52",
   "metadata": {},
   "outputs": [],
   "source": [
    "plenarWordsEinzeln = plenarWords.split(\" \")\n",
    "plenarWordsList=[]\n",
    "for e in plenarWordsEinzeln:\n",
    "    e.strip().rstrip('.')\n",
    "    plenarWordsList.append(e.strip().rstrip('.'))"
   ]
  },
  {
   "cell_type": "code",
   "execution_count": 12,
   "id": "2d568bf1",
   "metadata": {},
   "outputs": [
    {
     "name": "stdout",
     "output_type": "stream",
     "text": [
      "Anzahl: 67\n",
      "[2140, 98810, 98937, 99117, 99129, 99179, 99190, 99204, 99263, 99270, 99332, 99600, 99749, 99762, 99851, 100174, 100192, 100265, 100515, 100640, 100801, 100866, 100933, 100993, 101100, 101213, 101268, 101292, 101456, 101469, 101508, 101697, 102299, 102308, 102314, 102358, 102361, 102378, 102433, 102487, 102491, 102520, 102744, 102764, 102869, 102904, 102914, 102955, 103005, 103065, 103093, 104164, 104609, 104633, 127113, 127987, 127993, 128717, 129760, 129826, 129858, 129933, 129977, 162396, 165202, 165949, 166192]\n"
     ]
    }
   ],
   "source": [
    "#[s.find('Staatsangehörigkeit') for s in plenarWordsList]\n",
    "\n",
    "indices = [position for position, phrase in enumerate(plenarWordsList) if 'staatsangehörigkeit' in phrase]\n",
    "print('Anzahl:', len(indices))\n",
    "print (indices)"
   ]
  },
  {
   "cell_type": "code",
   "execution_count": 13,
   "id": "3f94ba76",
   "metadata": {},
   "outputs": [],
   "source": [
    "# i = counter variable for the positions of 'Staatsangehörigkeit' occurrences in the 'indices' list\n",
    "i = 0\n",
    "# j = counter variable for the location of the 11-grams' words in the 'plenarWordsList' list \n",
    "# (i.e. the document with the full text)\n",
    "vocabWords = []\n",
    "for i in indices:\n",
    "    # Option 1 druckt jedes Wort der 11-Gramme auf einer eigenen Zeile:\n",
    "    for j in range ((i-5), (i+6), 1):\n",
    "        vocabWords.append(plenarWordsList[j])\n",
    "        #print(plenarWordsList[j])\n",
    "        \n",
    "    \n",
    "    # Option 2 druckt jedes 11-Gramm als eine Liste auf einer eigenen Zeile:\n",
    "    #print([plenarWordsList[j] for j in range ((i-5), (i+6), 1)])\n",
    "    \n",
    "    # Option 3 druckt jedes 11-Gramm als ein String auf einer eigenen Zeile:\n",
    "    #elevenGram = [plenarWordsList[j] for j in range ((i-5), (i+6), 1)]\n",
    "    #result = ' '.join(elevenGram)\n",
    "    #print(result)"
   ]
  },
  {
   "cell_type": "code",
   "execution_count": 14,
   "id": "34d4f17b",
   "metadata": {},
   "outputs": [],
   "source": [
    "wordsListSorted = vocabWords.copy()\n",
    "wordsListSorted.sort()\n",
    "#result = ' '.join(elevenGramSorted)\n",
    "#print(wordsListSorted)\n",
    "\n",
    "\n",
    "#words = ' '.join(elevenGramSorted)\n",
    "#print(words)"
   ]
  },
  {
   "cell_type": "code",
   "execution_count": 15,
   "id": "4bc89040",
   "metadata": {},
   "outputs": [
    {
     "name": "stdout",
     "output_type": "stream",
     "text": [
      "['10', '12,', '12274', '16', '16,', '19/9736', '19/9736', '1999', '70', '90/die', '90/die', 'aber', 'abgeordneten', 'absolut', 'alle', 'allein', 'allein', 'allenfalls', 'allerdings', 'allerdings', 'an', 'an', 'an', 'an', 'an', 'an', 'an', 'anspruch', 'artikel', 'artikel', 'artikel', 'auch', 'auch', 'auch', 'auch', 'auch,', 'auf', 'auf', 'auf', 'auf', 'aufgrund', 'aus', 'aus', 'ausbürgern', 'ausgebürgert', 'ausgeführt,', 'ausland', 'ausland', 'ausschuss', 'außer', 'bedeutet', 'bedeutet', 'bedeutet', 'bedürfnis', 'begrenzt,', 'bei', 'bei', 'bei', 'bei', 'bei', 'bei', 'bei', 'bei', 'beifall', 'beifall', 'beifall', 'beifall', 'beifall', 'beim', 'beim', 'bekenntnis', 'belohnen', 'bereits', 'besitzen', 'besitzen,', 'besitzen,', 'bestimmtes', 'beteiligen,', 'betonen', 'bisher', 'blackbox', 'bündnis', 'bündnis', 'bündnis', 'bürgern', 'cdu/csu', 'd', 'daher', 'darauf', 'darauf', 'darf,', 'darunter', 'das', 'das', 'das', 'das', 'das', 'das', 'das', 'das', 'das', 'das', 'das,', 'dass', 'dass', 'dass', 'dass', 'dazu', 'dazuzugehören,', 'definition', 'dem', 'den', 'den', 'den', 'den', 'den', 'den', 'den', 'den', 'denn', 'denn', 'der', 'der', 'der', 'der', 'der', 'der', 'der', 'der', 'der', 'der', 'der', 'der', 'der', 'der', 'der', 'der', 'der', 'der', 'der', 'der', 'der', 'der', 'der', 'der', 'der', 'der', 'der', 'der', 'der', 'der', 'der', 'des', 'des', 'des', 'des', 'des', 'des', 'des', 'des', 'des', 'des', 'deshalb', 'deshalb', 'deswegen', 'details', 'deutsche', 'deutsche', 'deutsche', 'deutsche', 'deutsche', 'deutsche', 'deutsche', 'deutsche', 'deutsche', 'deutsche', 'deutsche', 'deutschen', 'deutschen', 'deutschen', 'deutschen', 'deutschen', 'deutschen', 'deutschen', 'deutschen', 'deutschen', 'deutscher', 'deutscher', 'deutscher', 'deutscher', 'deutschland', 'deutschland', 'die', 'die', 'die', 'die', 'die', 'die', 'die', 'die', 'die', 'die', 'die', 'die', 'die', 'die', 'die', 'die', 'die', 'die', 'die', 'die', 'die', 'die', 'die', 'die', 'die', 'die', 'die', 'die', 'die', 'die', 'die', 'die', 'die', 'die', 'die', 'die', 'die', 'die', 'die', 'diesem', 'diesen', 'dieses', 'diskriminierungen', 'doppelpass', 'doppelstaatler', 'doppelstaatler,', 'doppelstaatlichkeit', 'doppelter', 'doppelter', 'doppelter', 'dr', 'dr', 'dritte', 'dritten', 'dritten', 'dritten', 'drucksache', 'drucksache', 'ebenfalls', 'ebenfalls', 'ein', 'ein', 'ein', 'ein', 'ein', 'ein', 'ein', 'ein', 'einbeziehung', 'eine', 'eine', 'eine', 'eine', 'eine', 'eine', 'eine', 'einen', 'einen', 'einer', 'einer', 'einer', 'einfacher', 'einfacher', 'eingeschränkt', 'einmal', 'einzelnen', 'elementare', 'entscheidung,', 'entziehen', 'entziehen,', 'entziehen,', 'entzogen', 'entzogen', 'entzogen', 'entzug', 'entzug', 'entzug', 'er', 'erfordert', 'ergibt', 'ergibt,', 'erkennungsdienstlichen', 'erleiden', 'erteilung', 'es', 'es', 'es', 'es', 'es', 'falle', 'falsch', 'falschen', 'fest,', 'filiz', 'formale', 'frage', 'fraktion', 'friedrich', 'fällt', 'fördert', 'führt', 'führt,', 'für', 'für', 'für', 'für', 'für', 'für', 'für', 'ganz', 'gar', 'geben', 'geben', 'geburt', 'geehrte', 'gegen', 'gegen', 'gegen', 'gehört', 'gehört', 'gehört', 'geknüpft', 'geknüpft', 'geknüpft', 'geltende', 'geschaffen', 'geschaffen,', 'geschaffen,', 'gesellschaftsgruppen', 'gesetz', 'gesetz', 'gesetzes', 'gesetzes', 'gesetzes', 'gesetzes', 'gewissen', 'gibt,', 'gründen', 'grünen', 'haben', 'haben', 'haben,', 'halten', 'handelnden', 'hans-peter', 'hat', 'hat', 'heute', 'hier', 'hier', 'hinausgehen,', 'ich', 'ihre', 'ihre', 'ihren', 'ihrer', 'ihrer', 'im', 'im', 'im', 'im', 'im', 'immer', 'in', 'in', 'in', 'in', 'in', 'in', 'in', 'institution', 'instrumentalisieren', 'internationalen', 'is-kämpfer', 'ist', 'ist', 'ist', 'ist', 'ist', 'ist', 'ist', 'ist', 'ist', 'ist,', 'ist,', 'jedenfalls', 'kann', 'kann', 'kann,', 'keine', 'keinen', 'klingt', 'klärung', 'knüpft', 'koalitionsfreiheit,', 'kollegen!', 'kolleginnen', 'konkret', 'konkrete', 'konsequenz', 'kontraproduktiv', 'korrektur', 'kämpfern', 'können', 'künftige', 'land', 'lebensmittelpunkt', 'legen,', 'leicht', 'leichtfertig', 'linken', 'luftschlösser', 'man', 'man', 'manche', 'manifestiert', 'maßnahmen', 'maßvoll', 'maßvolle', 'mehrere', 'mehrfache', 'mehrstaater', 'menschen', 'menschen', 'menschen', 'menschen', 'menschenrechte', 'millionen', 'mit', 'mit', 'mit', 'mit', 'mit', 'mit', 'mit', 'mit', 'mit', 'mitnichten', 'mitnichten', 'möglichkeit', 'möglichkeit', 'müssen,', 'nach', 'nachgedacht', 'nationalität', 'neuen', 'nicht', 'nicht', 'nicht', 'nicht', 'nicht', 'nicht,', 'nicht-eu-ausländer', 'nichtdeutscher', 'nichtmitwirkung', 'nichtmitwirkung', 'nichts', 'noch', 'noch', 'noch', 'noch', 'noch', 'noch', 'novellierung', 'null', 'nur', 'oder', 'oder', 'oder', 'oder,', 'ohne', 'ohne', 'personen', 'personen', 'personen', 'personen,', 'petitesse;', 'polat', 'populistisch', 'praktisches', 'qualifikation', 'recht', 'recht,', 'recht,', 'reform', 'regelung', 'rein', 'richtige', 'schaffen', 'schon', 'schon', 'schön', 'schützt,', 'sehr', 'sehr', 'sein,', 'seiner', 'serienvergewaltigt', 'sich', 'sich', 'sich', 'sich', 'sicherheitspolitische', 'sicherheitspolitischen', 'sie', 'sie', 'sie', 'sie', 'sie', 'sie', 'sie', 'sieht', 'sind', 'situation', 'solche', 'solche', 'sollten', 'sondern', 'sondern', 'sowie', 'spd', 'sprechen', 'staaten', 'staatsangehörigkeit', 'staatsangehörigkeit', 'staatsangehörigkeit', 'staatsangehörigkeit', 'staatsangehörigkeit', 'staatsangehörigkeit', 'staatsangehörigkeit', 'staatsangehörigkeit', 'staatsangehörigkeit', 'staatsangehörigkeit', 'staatsangehörigkeit', 'staatsangehörigkeit', 'staatsangehörigkeit', 'staatsangehörigkeit', 'staatsangehörigkeit', 'staatsangehörigkeit', 'staatsangehörigkeit', 'staatsangehörigkeit', 'staatsangehörigkeit', 'staatsangehörigkeit', 'staatsangehörigkeit', 'staatsangehörigkeit', 'staatsangehörigkeit', 'staatsangehörigkeit', 'staatsangehörigkeit', 'staatsangehörigkeit', 'staatsangehörigkeit', 'staatsangehörigkeit', 'staatsangehörigkeit', 'staatsangehörigkeit', 'staatsangehörigkeit', 'staatsangehörigkeit', 'staatsangehörigkeit', 'staatsangehörigkeit', 'staatsangehörigkeit', 'staatsangehörigkeit', 'staatsangehörigkeit', 'staatsangehörigkeit', 'staatsangehörigkeit', 'staatsangehörigkeit', 'staatsangehörigkeit', 'staatsangehörigkeit', 'staatsangehörigkeit', 'staatsangehörigkeit', 'staatsangehörigkeit', 'staatsangehörigkeit', 'staatsangehörigkeit', 'staatsangehörigkeit', 'staatsangehörigkeit', 'staatsangehörigkeit,', 'staatsangehörigkeit,', 'staatsangehörigkeit,', 'staatsangehörigkeit,', 'staatsangehörigkeiten', 'staatsangehörigkeitsgesetz', 'staatsangehörigkeitsgesetzes', 'staatsangehörigkeitsgesetzes', 'staatsangehörigkeitsgesetzes', 'staatsangehörigkeitsgesetzes', 'staatsangehörigkeitsgesetzes', 'staatsangehörigkeitspolitik', 'staatsangehörigkeitsrecht', 'staatsangehörigkeitsrecht', 'staatsangehörigkeitsrecht', 'staatsangehörigkeitsrecht', 'staatsangehörigkeitsrecht', 'staatsangehörigkeitsrecht', 'staatsangehörigkeitsrecht', 'staatsangehörigkeitsrechten', 'staatsangehörigkeitsrechtlichen', 'staatsangehörigkeitsrechts', 'stellt', 'streitkräfte', 'strenge', 'stünde', 'tag', 'teilnahme', 'terrorakten', 'terrorakten', 'terrorakten', 'terrormiliz', 'treten,', 'tätigkeiten', 'um', 'um', 'um', 'umfassende', 'un-sondertribunal', 'unabhängig', 'unabhängig', 'und', 'und', 'und', 'und', 'und', 'und', 'und', 'und', 'und', 'und', 'und', 'und', 'und', 'und', 'und', 'uns', 'unter', 'untereinander', 'unterzubringen,', 'verbietet', 'verfassungsrechtliche', 'verfügen', 'verlassen,', 'verliert,', 'verlust', 'verlust', 'verlust', 'verlust', 'verlust', 'verlust', 'verlust', 'verlust', 'verlustes', 'verlustes', 'verlusttatbestand', 'versammlungsund', 'versuchen', 'versuchen,', 'vizepräsident', 'von', 'von', 'von', 'von', 'von', 'von', 'vor', 'vor,', 'vorantreiben,', 'voraussetzung', 'vorliegende', 'vorzugehen', 'wahrscheinlich', 'was', 'was', 'was', 'weitere', 'weitere', 'weitere', 'wenn', 'wenn', 'wenn', 'wenn', 'wenn', 'werden', 'werden', 'werden,', 'wichtig', 'wie', 'wie', 'wieder', 'wir', 'wir', 'wir', 'wir', 'wird', 'wird', 'wird', 'wird,', 'wissen', 'womöglich', 'wurden,', 'wäre', 'zahl', 'zu', 'zu', 'zu', 'zu', 'zu', 'zu', 'zu', 'zukünftig', 'zum', 'zum', 'zum', 'zur', 'zur', 'zur', 'zur', 'zustimmung', 'zwar', 'zwar', 'zweck', 'zwischen', 'änderung', 'änderung', 'änderung', 'änderung', 'über', 'über', 'über', 'überschaubaren', 'überweisungsvorschlag']\n"
     ]
    }
   ],
   "source": [
    "# stop-word list needs to be added\n",
    "print(wordsListSorted)"
   ]
  }
 ],
 "metadata": {
  "kernelspec": {
   "display_name": "Python 3 (ipykernel)",
   "language": "python",
   "name": "python3"
  },
  "language_info": {
   "codemirror_mode": {
    "name": "ipython",
    "version": 3
   },
   "file_extension": ".py",
   "mimetype": "text/x-python",
   "name": "python",
   "nbconvert_exporter": "python",
   "pygments_lexer": "ipython3",
   "version": "3.11.5"
  }
 },
 "nbformat": 4,
 "nbformat_minor": 5
}
