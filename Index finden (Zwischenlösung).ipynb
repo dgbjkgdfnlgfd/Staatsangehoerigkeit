{
 "cells": [
  {
   "cell_type": "code",
   "execution_count": null,
   "id": "07886646",
   "metadata": {},
   "outputs": [],
   "source": [
    "import pandas as pd"
   ]
  },
  {
   "cell_type": "code",
   "execution_count": null,
   "id": "b553cd95",
   "metadata": {},
   "outputs": [],
   "source": [
    "# read CSV file with speeches\n",
    "opendiscourse = pd.read_csv('speeches.csv')"
   ]
  },
  {
   "cell_type": "markdown",
   "id": "cab1f6fd",
   "metadata": {},
   "source": [
    "Um die Indexnummern und IDs für die benötigten Sitzungen/Redebeiträge zu finden, haben wir eine Zwischenlösung entwickelt. Die Protokolle der Sitzungen, die auf der Webseite des Bundestages als PDFs veröffentlicht sind, enthalten den Text der ganzen Sitzung, sind allerdings auf den Anfang des für das Thema relevanten Abschnitts verlinkt. (Siehe Links unten.)\n",
    "\n",
    "Wir ließen den Text der Redebeiträge der jeweiligen Sitzungen ausdrucken und suchten manuell (im Browser) nach den ersten und letzten Sätzen des Abschnitts, um die entsprechenden Indexnummern und IDs zu vermitteln. Geplant war, diesen Code weiterzuschreiben, um die Suche mit Python durchzuführen, aus zeitlichen Gründen war das leider nicht möglich.\n",
    "\n",
    "Links zu PDFs der Sitzungen:  \n",
    "Zweite Gesetzesänderung:  \n",
    "18/39  \n",
    "Erste Beratung 05.06.2014: BT-Plenarprotokoll 18/39, S. 3336A-3356B  \n",
    "https://dserver.bundestag.de/btp/18/18039.pdf#P.3336  \n",
    "18/46  \n",
    "Zweite Beratung 03.07.2014: BT-Plenarprotokoll 18/46, S. 4183C-4195B  \n",
    "https://dserver.bundestag.de/btp/18/18046.pdf#P.4183  \n",
    "Dritte Beratung 03.07.2014: BT-Plenarprotokoll 18/46, S. 4194C-4194D  \n",
    "https://dserver.bundestag.de/btp/18/18046.pdf#P.4194  \n",
    "\n",
    "Dritte Gesetzesänderung:  \n",
    "19/101  \n",
    "Erste Beratung 16.05.2019: BT-Plenarprotokoll 19/101, S. 12274D-12282C  \n",
    "https://dserver.bundestag.de/btp/19/19101.pdf#P.12274  \n",
    "19/107  \n",
    "Zweite Beratung 27.06.2019: BT-Plenarprotokoll 19/107, S. 13212D-13223A  \n",
    "https://dserver.bundestag.de/btp/19/19107.pdf#P.13212  \n",
    "Dritte Beratung 27.06.2019: BT-Plenarprotokoll 19/107, S. 13223A-13223A  \n",
    "https://dserver.bundestag.de/btp/19/19107.pdf#P.13223  \n",
    "\n",
    "Vierte Gesetzesänderung:  \n",
    "19/224  \n",
    "Erste Beratung 22.04.2021: BT-Plenarprotokoll 19/224, S. 28573B-28576B  \n",
    "https://dserver.bundestag.de/btp/19/19224.pdf#P.28573  \n",
    "(Die zweite und dritte Beratung fanden am 24.06.2021 statt, sind nicht Teil des Datensatzes, sind aber hier zu finden unter \"Plenum\":  \n",
    "https://dip.bundestag.de/vorgang/viertes-gesetz-zur-%C3%A4nderung-des-staatsangeh%C3%B6rigkeitsgesetzes/275942) "
   ]
  },
  {
   "cell_type": "code",
   "execution_count": null,
   "id": "15f38af6",
   "metadata": {},
   "outputs": [],
   "source": [
    "# set 'wahlperiode' to electoral term number and 'sitzungsnummer' to session number\n",
    "# electoral term numbers and session numbers are noted in the previous cell prior to the PDF links\n",
    "wahlperiode = 18\n",
    "sitzungsnummer = 39\n",
    "\n",
    "# prints the text of the entire session, including index, id, date, speaker's last name, and speech content\n",
    "# search in this text to find the appropriate point that matches the PDF section\n",
    "for ind in opendiscourse.index: \n",
    "    if opendiscourse['session'][ind] == sitzungsnummer and opendiscourse['electoralTerm'][ind] == wahlperiode: \n",
    "        print('ind:', ind, 'id:', opendiscourse['id'][ind], opendiscourse['date'][ind], opendiscourse['lastName'][ind], opendiscourse['speechContent'][ind])"
   ]
  }
 ],
 "metadata": {
  "kernelspec": {
   "display_name": "Python 3 (ipykernel)",
   "language": "python",
   "name": "python3"
  },
  "language_info": {
   "codemirror_mode": {
    "name": "ipython",
    "version": 3
   },
   "file_extension": ".py",
   "mimetype": "text/x-python",
   "name": "python",
   "nbconvert_exporter": "python",
   "pygments_lexer": "ipython3",
   "version": "3.11.5"
  }
 },
 "nbformat": 4,
 "nbformat_minor": 5
}
